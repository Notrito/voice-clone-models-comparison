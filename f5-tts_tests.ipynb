{
 "cells": [
  {
   "cell_type": "code",
   "execution_count": 3,
   "id": "3b5f11be",
   "metadata": {},
   "outputs": [
    {
     "name": "stdout",
     "output_type": "stream",
     "text": [
      "✅ Python: /mnt/c/Users/noel_/Desktop/TTS_HF/voice-clone-comparison/.venv/bin/python\n",
      "✅ PyTorch: 2.8.0+cu128\n",
      "✅ F5-TTS importado\n",
      "\n",
      "🔍 ¿Usando venv?: True\n"
     ]
    }
   ],
   "source": [
    "import sys\n",
    "import torch\n",
    "import f5_tts\n",
    "\n",
    "print(f\"✅ Python: {sys.executable}\")\n",
    "print(f\"✅ PyTorch: {torch.__version__}\")\n",
    "print(f\"✅ F5-TTS importado\")\n",
    "print(f\"\\n🔍 ¿Usando venv?: {'.venv' in sys.executable}\")"
   ]
  },
  {
   "cell_type": "code",
   "execution_count": 6,
   "id": "fb178159",
   "metadata": {},
   "outputs": [
    {
     "name": "stdout",
     "output_type": "stream",
     "text": [
      "🔍 Buscando módulos internos:\n",
      "----------------------------------------\n",
      "✅ f5_tts.infer.utils_infer\n",
      "   └─ Funciones: AudioSegment, CFM, ThreadPoolExecutor, Vocos, chunk_text\n",
      "❌ f5_tts.model.model\n",
      "✅ f5_tts.model.cfm\n",
      "   └─ Funciones: CFM, Callable, MelSpec, default, exists\n",
      "❌ f5_tts.infer.infer_process\n"
     ]
    }
   ],
   "source": [
    "# Intentar encontrar clases/funciones usables\n",
    "submodules_v2 = [\n",
    "    'f5_tts.infer.utils_infer',\n",
    "    'f5_tts.model.model',\n",
    "    'f5_tts.model.cfm',\n",
    "    'f5_tts.infer.infer_process',\n",
    "]\n",
    "\n",
    "print(\"🔍 Buscando módulos internos:\")\n",
    "print(\"-\" * 40)\n",
    "\n",
    "for module_name in submodules_v2:\n",
    "    try:\n",
    "        mod = importlib.import_module(module_name)\n",
    "        print(f\"✅ {module_name}\")\n",
    "        \n",
    "        # Ver qué tiene dentro\n",
    "        funcs = [x for x in dir(mod) if not x.startswith('_') and callable(getattr(mod, x))]\n",
    "        if funcs:\n",
    "            print(f\"   └─ Funciones: {', '.join(funcs[:5])}\")\n",
    "            \n",
    "    except Exception as e:\n",
    "        print(f\"❌ {module_name}\")"
   ]
  },
  {
   "cell_type": "code",
   "execution_count": 8,
   "id": "14e9bbd7",
   "metadata": {},
   "outputs": [
    {
     "name": "stdout",
     "output_type": "stream",
     "text": [
      "🔍 Todos los elementos de utils_infer:\n",
      "----------------------------------------\n",
      "\n",
      "📚 FUNCIONES (17):\n",
      "   • chunk_text\n",
      "   • convert_char_to_pinyin\n",
      "   • files\n",
      "   • get_tokenizer\n",
      "   • hf_hub_download\n",
      "   • infer_batch_process\n",
      "   • infer_process\n",
      "   • initialize_asr_pipeline\n",
      "   • load_checkpoint\n",
      "   • load_model\n",
      "   • load_vocoder\n",
      "   • pipeline\n",
      "   • preprocess_ref_audio_text\n",
      "   • remove_silence_edges\n",
      "   • remove_silence_for_generated_wav\n",
      "   • save_spectrogram\n",
      "   • transcribe\n",
      "\n",
      "🏗️ CLASES (4):\n",
      "   • AudioSegment\n",
      "   • CFM\n",
      "   • ThreadPoolExecutor\n",
      "   • Vocos\n",
      "\n",
      "🔧 VARIABLES (29):\n",
      "   • asr_pipe (NoneType)\n",
      "   • cfg_strength (float)\n",
      "   • cross_fade_duration (float)\n",
      "   • device (str)\n",
      "   • fix_duration (NoneType)\n",
      "   • hashlib (module)\n",
      "   • hop_length (int)\n",
      "   • matplotlib (module)\n",
      "   • mel_spec_type (str)\n",
      "   • n_fft (int)\n"
     ]
    }
   ],
   "source": [
    "from f5_tts.infer import utils_infer\n",
    "\n",
    "print(\"🔍 Todos los elementos de utils_infer:\")\n",
    "print(\"-\" * 40)\n",
    "\n",
    "# Ver TODOS los no-privados\n",
    "all_items = [x for x in dir(utils_infer) if not x.startswith('_')]\n",
    "\n",
    "# Categorizar por tipo\n",
    "functions = []\n",
    "classes = []\n",
    "variables = []\n",
    "\n",
    "for item_name in all_items:\n",
    "    item = getattr(utils_infer, item_name)\n",
    "    item_type = type(item).__name__\n",
    "    \n",
    "    if item_type == 'function':\n",
    "        functions.append(item_name)\n",
    "    elif item_type == 'type':\n",
    "        classes.append(item_name)\n",
    "    else:\n",
    "        variables.append(f\"{item_name} ({item_type})\")\n",
    "\n",
    "print(f\"\\n📚 FUNCIONES ({len(functions)}):\")\n",
    "for f in functions:\n",
    "    print(f\"   • {f}\")\n",
    "\n",
    "print(f\"\\n🏗️ CLASES ({len(classes)}):\")\n",
    "for c in classes:\n",
    "    print(f\"   • {c}\")\n",
    "\n",
    "print(f\"\\n🔧 VARIABLES ({len(variables)}):\")\n",
    "for v in variables[:10]:  # Solo primeras 10\n",
    "    print(f\"   • {v}\")"
   ]
  },
  {
   "cell_type": "code",
   "execution_count": 9,
   "id": "f93a74b4",
   "metadata": {},
   "outputs": [
    {
     "name": "stdout",
     "output_type": "stream",
     "text": [
      "📖 Documentación de infer_process:\n",
      "==================================================\n",
      "Help on function infer_process in module f5_tts.infer.utils_infer:\n",
      "\n",
      "infer_process(ref_audio, ref_text, gen_text, model_obj, vocoder, mel_spec_type='vocos', show_info=<built-in function print>, progress=<module 'tqdm' from '/mnt/c/Users/noel_/Desktop/TTS_HF/voice-clone-comparison/.venv/lib/python3.12/site-packages/tqdm/__init__.py'>, target_rms=0.1, cross_fade_duration=0.15, nfe_step=32, cfg_strength=2.0, sway_sampling_coef=-1.0, speed=1.0, fix_duration=None, device='cuda')\n",
      "\n"
     ]
    }
   ],
   "source": [
    "from f5_tts.infer.utils_infer import infer_process, load_model, load_vocoder\n",
    "\n",
    "print(\"📖 Documentación de infer_process:\")\n",
    "print(\"=\" * 50)\n",
    "help(infer_process)"
   ]
  },
  {
   "cell_type": "code",
   "execution_count": 10,
   "id": "3c06230a",
   "metadata": {},
   "outputs": [
    {
     "name": "stdout",
     "output_type": "stream",
     "text": [
      "\n",
      "📖 Documentación de load_model:\n",
      "==================================================\n",
      "Help on function load_model in module f5_tts.infer.utils_infer:\n",
      "\n",
      "load_model(model_cls, model_cfg, ckpt_path, mel_spec_type='vocos', vocab_file='', ode_method='euler', use_ema=True, device='cuda')\n",
      "\n"
     ]
    }
   ],
   "source": [
    "print(\"\\n📖 Documentación de load_model:\")\n",
    "print(\"=\" * 50)\n",
    "help(load_model)"
   ]
  },
  {
   "cell_type": "code",
   "execution_count": 11,
   "id": "5dee84d6",
   "metadata": {},
   "outputs": [
    {
     "name": "stdout",
     "output_type": "stream",
     "text": [
      "\n",
      "📖 Documentación de load_vocoder:\n",
      "==================================================\n",
      "Help on function load_vocoder in module f5_tts.infer.utils_infer:\n",
      "\n",
      "load_vocoder(vocoder_name='vocos', is_local=False, local_path='', device='cuda', hf_cache_dir=None)\n",
      "    # load vocoder\n",
      "\n"
     ]
    }
   ],
   "source": [
    "print(\"\\n📖 Documentación de load_vocoder:\")\n",
    "print(\"=\" * 50)\n",
    "help(load_vocoder)"
   ]
  },
  {
   "cell_type": "code",
   "execution_count": null,
   "id": "fc39776b",
   "metadata": {},
   "outputs": [
    {
     "name": "stdout",
     "output_type": "stream",
     "text": [
      "\n",
      "📖 Documentación de load_model:\n",
      "==================================================\n",
      "Help on function load_model in module f5_tts.infer.utils_infer:\n",
      "\n",
      "load_model(model_cls, model_cfg, ckpt_path, mel_spec_type='vocos', vocab_file='', ode_method='euler', use_ema=True, device='cuda')\n",
      "\n"
     ]
    }
   ],
   "source": [
    "print(\"\\n📖 Documentación de load_model:\")\n",
    "print(\"=\" * 50)\n",
    "help(load_model)"
   ]
  }
 ],
 "metadata": {
  "kernelspec": {
   "display_name": ".venv",
   "language": "python",
   "name": "python3"
  },
  "language_info": {
   "codemirror_mode": {
    "name": "ipython",
    "version": 3
   },
   "file_extension": ".py",
   "mimetype": "text/x-python",
   "name": "python",
   "nbconvert_exporter": "python",
   "pygments_lexer": "ipython3",
   "version": "3.12.3"
  }
 },
 "nbformat": 4,
 "nbformat_minor": 5
}
